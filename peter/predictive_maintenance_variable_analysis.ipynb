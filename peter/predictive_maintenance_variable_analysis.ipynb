{
  "nbformat": 4,
  "nbformat_minor": 0,
  "metadata": {
    "colab": {
      "provenance": []
    },
    "kernelspec": {
      "name": "python3",
      "display_name": "Python 3"
    },
    "language_info": {
      "name": "python"
    }
  },
  "cells": [
    {
      "cell_type": "code",
      "source": [
        "from sklearn.ensemble import RandomForestClassifier\n",
        "from sklearn.model_selection import train_test_split\n",
        "import pandas as pd\n",
        "\n",
        "# Load the dataset\n",
        "data2 = pd.read_csv(\"predictive_maintenance.csv\")\n",
        "\n"
      ],
      "metadata": {
        "id": "6QU9zt11GNxP"
      },
      "execution_count": 15,
      "outputs": []
    },
    {
      "cell_type": "code",
      "source": [
        " data = data2.drop(columns=['UDI', 'Product ID', 'Type', 'Failure Type'])"
      ],
      "metadata": {
        "id": "K6V1m-mtKXUX"
      },
      "execution_count": 16,
      "outputs": []
    },
    {
      "cell_type": "code",
      "source": [
        "data.columns"
      ],
      "metadata": {
        "colab": {
          "base_uri": "https://localhost:8080/"
        },
        "id": "UlIu8AsuKiFi",
        "outputId": "e4b638fc-2ee6-41de-f03b-1c50de003fbd"
      },
      "execution_count": 17,
      "outputs": [
        {
          "output_type": "execute_result",
          "data": {
            "text/plain": [
              "Index(['Air temperature [K]', 'Process temperature [K]',\n",
              "       'Rotational speed [rpm]', 'Torque [Nm]', 'Tool wear [min]', 'Target'],\n",
              "      dtype='object')"
            ]
          },
          "metadata": {},
          "execution_count": 17
        }
      ]
    },
    {
      "cell_type": "code",
      "source": [
        "# Separate features and target variable\n",
        "\n",
        "X = data.drop(columns=[\"Target\"])  # Features\n",
        "y = data[\"Tool wear [min]\"]\n",
        "# Split the data into training and testing sets\n",
        "X_train, X_test, y_train, y_test = train_test_split(X, y, test_size=0.2, random_state=42)\n",
        "\n",
        "# Create a Random Forest Classifier model\n",
        "model = RandomForestClassifier(n_estimators=100, random_state=42)\n",
        "\n",
        "# Train the model\n",
        "model.fit(X_train, y_train)\n",
        "\n"
      ],
      "metadata": {
        "colab": {
          "base_uri": "https://localhost:8080/"
        },
        "id": "43-3ZjZNKON0",
        "outputId": "6fc6e432-2d78-48db-da62-e730dad3a353"
      },
      "execution_count": 18,
      "outputs": [
        {
          "output_type": "stream",
          "name": "stdout",
          "text": [
            "                   Feature  Importance\n",
            "4          Tool wear [min]    0.501285\n",
            "2   Rotational speed [rpm]    0.137219\n",
            "3              Torque [Nm]    0.135802\n",
            "0      Air temperature [K]    0.114363\n",
            "1  Process temperature [K]    0.111330\n"
          ]
        }
      ]
    },
    {
      "cell_type": "code",
      "source": [
        "# Feature Importance\n",
        "feature_importance = model.feature_importances_\n",
        "\n",
        "# Create a DataFrame to display feature importance\n",
        "feature_importance_df = pd.DataFrame({'Feature': X.columns, 'Importance': feature_importance})\n",
        "feature_importance_df = feature_importance_df.sort_values(by='Importance', ascending=False)\n",
        "\n",
        "# Display the feature importance\n",
        "print(feature_importance_df)"
      ],
      "metadata": {
        "id": "07cQ6ys6Lzgs"
      },
      "execution_count": null,
      "outputs": []
    },
    {
      "cell_type": "markdown",
      "source": [],
      "metadata": {
        "id": "2msYYGgRKKab"
      }
    },
    {
      "cell_type": "code",
      "source": [],
      "metadata": {
        "id": "nVx4W3LDKEZu"
      },
      "execution_count": null,
      "outputs": []
    }
  ]
}